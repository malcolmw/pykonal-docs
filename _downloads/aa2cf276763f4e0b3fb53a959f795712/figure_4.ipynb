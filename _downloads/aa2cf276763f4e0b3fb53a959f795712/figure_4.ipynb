{
 "cells": [
  {
   "cell_type": "markdown",
   "metadata": {},
   "source": [
    "# Figure 4\n",
    "Compatible with PyKonal Version 0.2.0"
   ]
  },
  {
   "cell_type": "code",
   "execution_count": null,
   "metadata": {},
   "outputs": [],
   "source": [
    "%matplotlib ipympl\n",
    "\n",
    "import matplotlib.gridspec as gs\n",
    "import matplotlib.pyplot as plt\n",
    "import numpy as np\n",
    "import pykonal"
   ]
  },
  {
   "cell_type": "markdown",
   "metadata": {},
   "source": [
    "## Initialize a solver in Cartesian coordinates"
   ]
  },
  {
   "cell_type": "code",
   "execution_count": null,
   "metadata": {},
   "outputs": [],
   "source": [
    "solver_c = pykonal.EikonalSolver(coord_sys='cartesian')\n",
    "solver_c.velocity.min_coords = -25, -25, 0\n",
    "solver_c.velocity.node_intervals = 1, 1, 1\n",
    "solver_c.velocity.npts = 51, 51, 1\n",
    "solver_c.velocity.values = np.ones(solver_c.velocity.npts) # Uniform velocity model\n",
    "\n",
    "# Add a line source at y = 0.\n",
    "for ix in range(solver_c.velocity.npts[0]):\n",
    "    src_idx = (ix, 25, 0)\n",
    "    solver_c.traveltime.values[src_idx] = 0\n",
    "    solver_c.unknown[src_idx] = False\n",
    "    solver_c.trial.push(*src_idx)\n",
    "\n",
    "# Solve the system\n",
    "%time solver_c.solve()"
   ]
  },
  {
   "cell_type": "markdown",
   "metadata": {},
   "source": [
    "## Initialize a solver in spherical coordinates"
   ]
  },
  {
   "cell_type": "code",
   "execution_count": null,
   "metadata": {},
   "outputs": [],
   "source": [
    "solver_s = pykonal.EikonalSolver(coord_sys='spherical')\n",
    "solver_s.velocity.min_coords = 0.01, np.pi/2, 0\n",
    "solver_s.velocity.node_intervals = 1, 1, np.pi/10\n",
    "solver_s.velocity.npts = 26, 1, 21\n",
    "solver_s.velocity.values = np.ones(solver_s.velocity.npts) # Uniform velocity model\n",
    "\n",
    "# Add a line source at y = 0.\n",
    "for ir in range(solver_s.velocity.npts[0]):\n",
    "    for it in range(solver_s.velocity.npts[1]):\n",
    "        for ip in np.argwhere(solver_s.traveltime.nodes[0,0,:,2] % np.pi  == 0).flatten():\n",
    "            src_idx = (ir, it, ip)\n",
    "            solver_s.traveltime.values[src_idx] = 0\n",
    "            solver_s.unknown[src_idx] = False\n",
    "            solver_s.trial.push(*src_idx)\n",
    "\n",
    "# Solve the system\n",
    "%time solver_s.solve()"
   ]
  },
  {
   "cell_type": "markdown",
   "metadata": {},
   "source": [
    "## Plot the results"
   ]
  },
  {
   "cell_type": "code",
   "execution_count": null,
   "metadata": {},
   "outputs": [],
   "source": [
    "iz, it = 0, 0\n",
    "plot_kwargs = dict(\n",
    "    shading='gouraud'\n",
    ")\n",
    "plt.close('all')\n",
    "\n",
    "nodes = solver_s.traveltime.nodes\n",
    "xx = nodes[...,0] * np.sin(nodes[...,1]) * np.cos(nodes[...,2])\n",
    "yy = nodes[...,0] * np.sin(nodes[...,1]) * np.sin(nodes[...,2])\n",
    "\n",
    "fig = plt.figure(figsize=(4.5, 4))\n",
    "\n",
    "gridspec = gs.GridSpec(nrows=2, ncols=4, width_ratios=[0.08, 1, 1, 0.08])\n",
    "ax1 = fig.add_subplot(gridspec[0, 1], aspect=1)\n",
    "ax2 = fig.add_subplot(gridspec[0, 2], aspect=1)\n",
    "ax3 = fig.add_subplot(gridspec[1, 1], aspect=1)\n",
    "ax4 = fig.add_subplot(gridspec[1, 2], aspect=1)\n",
    "cax1 = fig.add_subplot(gridspec[0, 3])\n",
    "cax2 = fig.add_subplot(gridspec[1, 3])\n",
    "ax1.set_title('Cartesian')\n",
    "ax2.set_title('Spherical')\n",
    "qmesh = ax1.pcolormesh(\n",
    "    solver_c.traveltime.nodes[:,:,iz,0],\n",
    "    solver_c.traveltime.nodes[:,:,iz,1],\n",
    "    solver_c.traveltime.values[:,:,iz],\n",
    "    cmap=plt.get_cmap('jet_r'),\n",
    "    **plot_kwargs\n",
    ")\n",
    "qmesh = ax2.pcolormesh(\n",
    "    xx[:,it,:],\n",
    "    yy[:,it,:],\n",
    "    solver_s.traveltime.values[:,it,:],\n",
    "    vmin=qmesh.get_array().min(),\n",
    "    vmax=qmesh.get_array().max(),\n",
    "    cmap=plt.get_cmap('jet_r'),\n",
    "    **plot_kwargs\n",
    ")\n",
    "cbar1 =  fig.colorbar(qmesh, cax=cax1)\n",
    "cbar1.set_label('Travel time [s]')\n",
    "qmesh = ax3.pcolormesh(\n",
    "    solver_c.traveltime.nodes[:,:,iz,0],\n",
    "    solver_c.traveltime.nodes[:,:,iz,1],\n",
    "    solver_c.traveltime.values[:,:,iz]-np.abs(solver_c.traveltime.nodes[:,:,iz,1]),\n",
    "    vmin=0.0,\n",
    "    vmax=0.35,\n",
    "    cmap=plt.get_cmap('bone_r'),\n",
    "    **plot_kwargs\n",
    ")\n",
    "qmesh = ax4.pcolormesh(\n",
    "    xx[:,it,:],\n",
    "    yy[:,it,:],\n",
    "    np.abs(solver_s.traveltime.values[:,it,:]-np.abs(yy[:,it,:])),\n",
    "    vmin=0.0,\n",
    "    vmax=0.35,\n",
    "    cmap=plt.get_cmap('bone_r'),\n",
    "    **plot_kwargs\n",
    ")\n",
    "cbar2 =  fig.colorbar(qmesh, cax=cax2)\n",
    "cbar2.set_label('Absolute error [s]')\n",
    "\n",
    "for ax in (ax1, ax2):\n",
    "    ax.set_xticklabels([])\n",
    "    \n",
    "for ax in (ax2, ax4):\n",
    "    ax.set_yticklabels([])\n",
    "    \n",
    "panel = ord(\"a\")\n",
    "for ax in (ax1, ax2, ax3, ax4):\n",
    "    ax.text(\n",
    "        0, 1.025, f\"({chr(panel)})\",\n",
    "        ha=\"right\",\n",
    "        va=\"bottom\",\n",
    "        transform=ax.transAxes\n",
    "    )\n",
    "    panel += 1\n",
    "\n",
    "fig.text(0.5, 0, \"x [km]\", ha=\"center\", va=\"bottom\")\n",
    "fig.text(0.05, 0.5, \"y [km]\", ha=\"left\", va=\"center\", rotation=90)"
   ]
  },
  {
   "cell_type": "code",
   "execution_count": null,
   "metadata": {},
   "outputs": [],
   "source": []
  }
 ],
 "metadata": {
  "kernelspec": {
   "display_name": "Python [conda env:py37]",
   "language": "python",
   "name": "conda-env-py37-py"
  },
  "language_info": {
   "codemirror_mode": {
    "name": "ipython",
    "version": 3
   },
   "file_extension": ".py",
   "mimetype": "text/x-python",
   "name": "python",
   "nbconvert_exporter": "python",
   "pygments_lexer": "ipython3",
   "version": "3.7.6"
  }
 },
 "nbformat": 4,
 "nbformat_minor": 4
}
