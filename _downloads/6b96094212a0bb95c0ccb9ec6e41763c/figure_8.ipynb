{
 "cells": [
  {
   "cell_type": "markdown",
   "metadata": {},
   "source": [
    "# Figure 8\n",
    "Compatible with PyKonal Version 0.2.0"
   ]
  },
  {
   "cell_type": "code",
   "execution_count": null,
   "metadata": {},
   "outputs": [],
   "source": [
    "%matplotlib ipympl\n",
    "\n",
    "import matplotlib.pyplot as plt\n",
    "import numpy as np\n",
    "import os\n",
    "import pkg_resources\n",
    "import pykonal\n",
    "import scipy.ndimage"
   ]
  },
  {
   "cell_type": "code",
   "execution_count": null,
   "metadata": {},
   "outputs": [],
   "source": [
    "velocity = pykonal.fields.ScalarField3D(coord_sys=\"cartesian\")\n",
    "velocity.min_coords = 0, 0, 0\n",
    "velocity.node_intervals = 0.1, 0.1, 0.1\n",
    "velocity.npts = 512, 128, 1\n",
    "velocity.values = scipy.ndimage.gaussian_filter(20. * np.random.randn(*velocity.npts) + 6., 10)"
   ]
  },
  {
   "cell_type": "code",
   "execution_count": null,
   "metadata": {},
   "outputs": [],
   "source": [
    "solver_dg = pykonal.EikonalSolver(coord_sys=\"cartesian\")\n",
    "solver_dg.vv.min_coords = velocity.min_coords\n",
    "solver_dg.vv.node_intervals = velocity.node_intervals\n",
    "solver_dg.vv.npts = velocity.npts\n",
    "solver_dg.vv.values = velocity.values\n",
    "\n",
    "src_idx = (127, 32, 0)\n",
    "solver_dg.tt.values[src_idx] = 0\n",
    "solver_dg.unknown[src_idx] = False\n",
    "solver_dg.trial.push(*src_idx)\n",
    "solver_dg.solve()\n",
    "\n",
    "\n",
    "solver_ug = pykonal.EikonalSolver(coord_sys=\"cartesian\")\n",
    "solver_ug.vv.min_coords = solver_dg.vv.min_coords\n",
    "solver_ug.vv.node_intervals = solver_dg.vv.node_intervals\n",
    "solver_ug.vv.npts = solver_dg.vv.npts\n",
    "solver_ug.vv.values = solver_dg.vv.values\n",
    "\n",
    "for ix in range(solver_ug.tt.npts[0]):\n",
    "    idx = (ix, solver_ug.tt.npts[1]-1, 0)\n",
    "    solver_ug.tt.values[idx] = solver_dg.tt.values[idx]\n",
    "    solver_ug.unknown[idx] = False\n",
    "    solver_ug.trial.push(*idx)\n",
    "solver_ug.solve()"
   ]
  },
  {
   "cell_type": "code",
   "execution_count": null,
   "metadata": {},
   "outputs": [],
   "source": [
    "plt.close(\"all\")\n",
    "fig = plt.figure(figsize=(6, 2.5))\n",
    "\n",
    "ax1 = fig.add_subplot(2, 1, 1)\n",
    "ax2 = fig.add_subplot(2, 1, 2)\n",
    "\n",
    "ax = fig.add_subplot(1, 1, 1, frameon=False)\n",
    "plt.tick_params(labelcolor='none', top=False, bottom=False, left=False, right=False)\n",
    "ax.set_ylabel(\"Depth [km]\")\n",
    "ax2.set_xlabel(\"Horizontal offset [km]\")\n",
    "ax1.set_xticklabels([])\n",
    "\n",
    "for solver, ax, panel in (\n",
    "    (solver_dg, ax1, f\"(a)\"), \n",
    "    (solver_ug, ax2, f\"(b)\")\n",
    "):\n",
    "    ax.text(-0.025, 1.05, panel, va=\"bottom\", ha=\"right\", transform=ax.transAxes)\n",
    "    qmesh = ax.pcolormesh(\n",
    "        solver.vv.nodes[:,:,0,0], \n",
    "        solver.vv.nodes[:,:,0,1], \n",
    "        solver.vv.values[:,:,0],\n",
    "        cmap=plt.get_cmap(\"hot\")\n",
    "    )\n",
    "    ax.contour(\n",
    "        solver.tt.nodes[:,:,0,0], \n",
    "        solver.tt.nodes[:,:,0,1], \n",
    "        solver.tt.values[:,:,0],\n",
    "        colors=\"k\",\n",
    "        linestyles=\"--\",\n",
    "        linewidths=1,\n",
    "        levels=np.arange(0, solver.tt.values.max(), 0.25)\n",
    "    )\n",
    "    ax.scatter(\n",
    "        solver.vv.nodes[src_idx + (0,)],\n",
    "        solver.vv.nodes[src_idx + (1,)],\n",
    "        marker=\"*\",\n",
    "        facecolor=\"w\",\n",
    "        edgecolor=\"k\",\n",
    "        s=256\n",
    "    )\n",
    "    ax.invert_yaxis()\n",
    "cbar = fig.colorbar(qmesh, ax=(ax1, ax2))\n",
    "cbar.set_label(\"Velocity [km/s]\")"
   ]
  },
  {
   "cell_type": "code",
   "execution_count": null,
   "metadata": {},
   "outputs": [],
   "source": []
  }
 ],
 "metadata": {
  "kernelspec": {
   "display_name": "Python [conda env:py37]",
   "language": "python",
   "name": "conda-env-py37-py"
  },
  "language_info": {
   "codemirror_mode": {
    "name": "ipython",
    "version": 3
   },
   "file_extension": ".py",
   "mimetype": "text/x-python",
   "name": "python",
   "nbconvert_exporter": "python",
   "pygments_lexer": "ipython3",
   "version": "3.7.6"
  }
 },
 "nbformat": 4,
 "nbformat_minor": 4
}
