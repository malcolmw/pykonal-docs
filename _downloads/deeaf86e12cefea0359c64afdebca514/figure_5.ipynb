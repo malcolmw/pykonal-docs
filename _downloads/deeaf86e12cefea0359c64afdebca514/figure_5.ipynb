{
 "cells": [
  {
   "cell_type": "markdown",
   "metadata": {},
   "source": [
    "# Figure 5\n",
    "Compatible with PyKonal Version 0.2.0"
   ]
  },
  {
   "cell_type": "code",
   "execution_count": null,
   "metadata": {},
   "outputs": [],
   "source": [
    "%matplotlib ipympl\n",
    "import matplotlib\n",
    "import matplotlib.gridspec as gs\n",
    "import matplotlib.pyplot as plt\n",
    "import numpy as np\n",
    "import os\n",
    "import pkg_resources\n",
    "import pykonal"
   ]
  },
  {
   "cell_type": "markdown",
   "metadata": {},
   "source": [
    "### Load Marmousi 2D velocity model"
   ]
  },
  {
   "cell_type": "code",
   "execution_count": null,
   "metadata": {},
   "outputs": [],
   "source": [
    "fname = pkg_resources.resource_filename(\n",
    "    'pykonal',\n",
    "    os.path.join('data', \"marmousi2\", 'marmousi2.npz')\n",
    ")\n",
    "with np.load(fname) as infile:\n",
    "    vv = infile['vv']"
   ]
  },
  {
   "cell_type": "markdown",
   "metadata": {},
   "source": [
    "### Initialize the EikonalSolver"
   ]
  },
  {
   "cell_type": "code",
   "execution_count": null,
   "metadata": {},
   "outputs": [],
   "source": [
    "velocity  = pykonal.fields.ScalarField3D(coord_sys=\"cartesian\")\n",
    "velocity.min_coords     = 0, 0, 0\n",
    "velocity.node_intervals = 0.004, 0.004, 1\n",
    "velocity.npts           = vv.shape\n",
    "velocity.values         = vv"
   ]
  },
  {
   "cell_type": "code",
   "execution_count": null,
   "metadata": {},
   "outputs": [],
   "source": [
    "traveltime_fields = dict()\n",
    "for decimation_factor in range(7, -1, -1):\n",
    "    decimation_factor = 2**decimation_factor\n",
    "    \n",
    "    vv = velocity.values[::decimation_factor, ::decimation_factor]\n",
    "\n",
    "    solver = pykonal.EikonalSolver(coord_sys=\"cartesian\")\n",
    "\n",
    "    solver.velocity.min_coords     = 0, 0, 0\n",
    "    solver.velocity.node_intervals = velocity.node_intervals * decimation_factor\n",
    "    solver.velocity.npts = vv.shape\n",
    "    solver.velocity.values = vv\n",
    "\n",
    "    src_idx = 0, 0, 0\n",
    "    solver.traveltime.values[src_idx] = 0\n",
    "    solver.unknown[src_idx] = False\n",
    "    solver.trial.push(*src_idx)\n",
    "\n",
    "    %time solver.solve()\n",
    "    traveltime_fields[decimation_factor] = solver.traveltime"
   ]
  },
  {
   "cell_type": "markdown",
   "metadata": {},
   "source": [
    "### Plot the results"
   ]
  },
  {
   "cell_type": "code",
   "execution_count": null,
   "metadata": {},
   "outputs": [],
   "source": [
    "plt.close('all')\n",
    "fig = plt.figure(figsize=(5, 4.25))\n",
    "ax = fig.add_subplot(1, 1, 1, frameon=False)\n",
    "plt.tick_params(labelcolor='none', top=False, bottom=False, left=False, right=False)\n",
    "ax.set_xlabel(\"Horizontal offset [km]\")\n",
    "ax.set_ylabel(\"Depth [km]\")\n",
    "\n",
    "gridspec = gs.GridSpec(nrows=8, ncols=2, height_ratios=[0.08, 1, 1, 1, 1, 0.2, 0.08, 0.72], width_ratios=[1, 1])\n",
    "cax00 = fig.add_subplot(gridspec[0, 0])\n",
    "cax01 = fig.add_subplot(gridspec[0, 1])\n",
    "cax51 = fig.add_subplot(gridspec[6, 1])\n",
    "ax10 = fig.add_subplot(gridspec[1, 0])\n",
    "ax11 = fig.add_subplot(gridspec[1, 1])\n",
    "ax20 = fig.add_subplot(gridspec[2, 0])\n",
    "ax21 = fig.add_subplot(gridspec[2, 1])\n",
    "ax30 = fig.add_subplot(gridspec[3, 0])\n",
    "ax31 = fig.add_subplot(gridspec[3, 1])\n",
    "ax40 = fig.add_subplot(gridspec[4, 0])\n",
    "ax41 = fig.add_subplot(gridspec[4, 1])\n",
    "ax50 = fig.add_subplot(gridspec[5:, 0])\n",
    "\n",
    "panel = ord(\"a\")\n",
    "for ax in (ax10, ax11, ax20, ax21, ax30, ax31, ax40, ax41, ax50):\n",
    "    ax.text(-0.05, 0.8, f\"({chr(panel)})\", ha=\"right\", va=\"top\", transform=ax.transAxes)\n",
    "    panel += 1\n",
    "\n",
    "qmesh = ax10.pcolormesh(\n",
    "    velocity.nodes[:,:,0,0],\n",
    "    velocity.nodes[:,:,0,1],\n",
    "    velocity.values[:,:,0],\n",
    "    cmap=plt.get_cmap(\"hot\")\n",
    ")\n",
    "cbar = fig.colorbar(qmesh, cax=cax00, orientation=\"horizontal\")\n",
    "cbar.set_label(\"Velocity [km/s]\")\n",
    "cbar.ax.xaxis.tick_top()\n",
    "cbar.ax.xaxis.set_label_position(\"top\")\n",
    "\n",
    "tt0 = traveltime_fields[1]\n",
    "qmesh = ax11.pcolormesh(\n",
    "    tt0.nodes[:,:,0,0],\n",
    "    tt0.nodes[:,:,0,1],\n",
    "    tt0.values[:,:,0],\n",
    "    cmap=plt.get_cmap(\"jet\"),\n",
    ")\n",
    "ax11.contour(\n",
    "    tt0.nodes[:,:,0,0],\n",
    "    tt0.nodes[:,:,0,1],\n",
    "    tt0.values[:,:,0],\n",
    "    colors=\"k\",\n",
    "    levels=np.arange(0, tt0.values.max(), 0.25),\n",
    "    linewidths=0.5,\n",
    "    linestyles=\"--\"\n",
    ")\n",
    "cbar = fig.colorbar(qmesh, cax=cax01, orientation=\"horizontal\")\n",
    "cbar.set_label(\"Traveltime [s]\")\n",
    "cbar.ax.xaxis.tick_top()\n",
    "cbar.ax.xaxis.set_label_position(\"top\")\n",
    "\n",
    "for ax, decimation_factor in ((ax20, 128), (ax21, 64), (ax30, 32), (ax31, 16), (ax40, 8), (ax41, 4), (ax50, 2)):\n",
    "    tt = traveltime_fields[decimation_factor]\n",
    "    qmesh = ax.pcolormesh(\n",
    "        tt.nodes[:,:,0,0],\n",
    "        tt.nodes[:,:,0,1],\n",
    "        np.abs(tt.values[:,:,0] - tt0.values[::decimation_factor, ::decimation_factor, 0]),\n",
    "        cmap=plt.get_cmap(\"bone_r\"),\n",
    "        vmin=0,\n",
    "        vmax=0.62\n",
    "    )\n",
    "    ax.text(\n",
    "        0.05, 0.95,\n",
    "        f\"$d={decimation_factor}$\",\n",
    "        ha=\"left\",\n",
    "        va=\"top\",\n",
    "        transform=ax.transAxes\n",
    "    )\n",
    "cbar = fig.colorbar(qmesh, cax=cax51, orientation=\"horizontal\")\n",
    "cbar.set_label(\"$\\Delta t$ [s]\")\n",
    "\n",
    "for ax in (ax10, ax11, ax20, ax21, ax30, ax31, ax40):\n",
    "    ax.set_xticklabels([])\n",
    "for ax in (ax11, ax21, ax31, ax41):\n",
    "    ax.yaxis.tick_right()\n",
    "for ax in (ax10, ax11, ax20, ax21, ax30, ax31, ax40, ax41, ax50):\n",
    "    ax.set_yticks([0, 4])\n",
    "    ax.set_xticks([0, 8, 16, 24])\n",
    "    ax.set_xlim(0, 27.136)\n",
    "    ax.set_ylim(0, 5.12)\n",
    "    ax.invert_yaxis()"
   ]
  },
  {
   "cell_type": "code",
   "execution_count": null,
   "metadata": {},
   "outputs": [],
   "source": []
  }
 ],
 "metadata": {
  "kernelspec": {
   "display_name": "Python [conda env:py37]",
   "language": "python",
   "name": "conda-env-py37-py"
  },
  "language_info": {
   "codemirror_mode": {
    "name": "ipython",
    "version": 3
   },
   "file_extension": ".py",
   "mimetype": "text/x-python",
   "name": "python",
   "nbconvert_exporter": "python",
   "pygments_lexer": "ipython3",
   "version": "3.7.6"
  }
 },
 "nbformat": 4,
 "nbformat_minor": 4
}
