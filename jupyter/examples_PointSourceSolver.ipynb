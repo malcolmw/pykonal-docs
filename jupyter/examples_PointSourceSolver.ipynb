{
 "cells": [
  {
   "cell_type": "code",
   "execution_count": 4,
   "metadata": {},
   "outputs": [],
   "source": [
    "%matplotlib ipympl\n",
    "\n",
    "import matplotlib.pyplot as plt\n",
    "import mpl_toolkits.mplot3d.axes3d\n",
    "import numpy as np\n",
    "import pykonal\n",
    "\n",
    "plt.style.use(\"malcolmw\")"
   ]
  },
  {
   "cell_type": "markdown",
   "metadata": {},
   "source": [
    "## Solve the eikonal equation for a point source randomly located inside a spherical computational grid."
   ]
  },
  {
   "cell_type": "code",
   "execution_count": 5,
   "metadata": {},
   "outputs": [
    {
     "data": {
      "text/plain": [
       "True"
      ]
     },
     "execution_count": 5,
     "metadata": {},
     "output_type": "execute_result"
    }
   ],
   "source": [
    "solver = pykonal.solver.PointSourceSolver(coord_sys=\"spherical\")\n",
    "\n",
    "# Define a simple computational grid.\n",
    "solver.velocity.min_coords = 1., 0, 0\n",
    "solver.velocity.node_intervals = 1, np.pi/31, np.pi/31\n",
    "solver.velocity.npts = 32, 32, 62\n",
    "solver.velocity.values = 5 + np.random.rand(*solver.velocity.npts)\n",
    "\n",
    "# Initialize the source location with a random location within the \n",
    "# computational grid.\n",
    "delta = solver.velocity.max_coords - solver.velocity.min_coords\n",
    "solver.src_loc = np.random.rand(3) * delta + solver.velocity.min_coords\n",
    "\n",
    "# Compute traveltimes.\n",
    "solver.solve()"
   ]
  },
  {
   "cell_type": "markdown",
   "metadata": {},
   "source": [
    "## Plot the results"
   ]
  },
  {
   "cell_type": "code",
   "execution_count": 6,
   "metadata": {},
   "outputs": [
    {
     "data": {
      "application/vnd.jupyter.widget-view+json": {
       "model_id": "25341c0e7a4047d28da869f36834b5be",
       "version_major": 2,
       "version_minor": 0
      },
      "text/plain": [
       "Canvas(toolbar=Toolbar(toolitems=[('Home', 'Reset original view', 'home', 'home'), ('Back', 'Back to previous …"
      ]
     },
     "metadata": {},
     "output_type": "display_data"
    }
   ],
   "source": [
    "\n",
    "xyz = pykonal.transformations.sph2xyz(solver.velocity.nodes)\n",
    "\n",
    "plt.close(\"all\")\n",
    "fig = plt.figure()\n",
    "ax = fig.add_subplot(1, 1, 1, projection=\"3d\")\n",
    "pts = ax.scatter(\n",
    "    xyz[...,0], xyz[...,1], xyz[...,2],\n",
    "    s=1,\n",
    "    linewidth=0,\n",
    "    c=solver.traveltime.values,\n",
    "    cmap=plt.get_cmap(\"jet_r\")\n",
    ")\n",
    "cbar = fig.colorbar(pts, ax=ax)\n",
    "cbar.set_label(\"Traveltime (s)\")"
   ]
  },
  {
   "cell_type": "code",
   "execution_count": 7,
   "metadata": {},
   "outputs": [],
   "source": [
    "plt.savefig(\"../source/examples/figures/point_source_solver.png\", dpi=1080, bbox_inches=\"tight\")"
   ]
  },
  {
   "cell_type": "code",
   "execution_count": null,
   "metadata": {},
   "outputs": [],
   "source": []
  }
 ],
 "metadata": {
  "kernelspec": {
   "display_name": "Python [conda env:py38]",
   "language": "python",
   "name": "conda-env-py38-py"
  },
  "language_info": {
   "codemirror_mode": {
    "name": "ipython",
    "version": 3
   },
   "file_extension": ".py",
   "mimetype": "text/x-python",
   "name": "python",
   "nbconvert_exporter": "python",
   "pygments_lexer": "ipython3",
   "version": "3.8.2"
  }
 },
 "nbformat": 4,
 "nbformat_minor": 4
}
