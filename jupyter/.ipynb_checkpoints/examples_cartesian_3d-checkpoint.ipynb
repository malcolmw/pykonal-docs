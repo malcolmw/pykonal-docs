{
 "cells": [
  {
   "cell_type": "code",
   "execution_count": 3,
   "metadata": {},
   "outputs": [],
   "source": [
    "# Import modules.\n",
    "import numpy as np\n",
    "import pykonal\n",
    "\n",
    "# Instantiate EikonalSolver object using Cartesian coordinates.\n",
    "solver = pykonal.EikonalSolver(coord_sys=\"cartesian\")\n",
    "# Set the coordinates of the lower bounds of the computational grid.\n",
    "# For Cartesian coordinates this is x_min, y_min, z_min.\n",
    "# In this example, the origin is the lower bound of the computation grid.\n",
    "solver.velocity.min_coords = 0, 0, 0\n",
    "# Set the interval between nodes of the computational grid.\n",
    "# For Cartesian coordinates this is dx, dy, dz.\n",
    "# In this example the nodes are separated by 1 km in in each direction.\n",
    "solver.velocity.node_intervals = 1, 1, 1\n",
    "# Set the number of nodes in the computational grid.\n",
    "# For Cartesian coordinates this is nx, ny, nz.\n",
    "# This is a 2D example, so we only want one node in the z direction.\n",
    "solver.velocity.npts = 8, 8, 1\n",
    "# Set the velocity model.\n",
    "# In this case the velocity is equale to 1 km/s everywhere.\n",
    "solver.velocity.values = np.ones(solver.velocity.npts)\n",
    "\n",
    "# Initialize the source. This is the trickiest part of the example.\n",
    "# The source coincides with the node at index (0, 0, 0)\n",
    "src_idx = 0, 0, 0\n",
    "# Set the traveltime at the source node to 0.\n",
    "solver.traveltime.values[src_idx] = 0\n",
    "# Set the is_far flag for the source node to False.\n",
    "# This is an FMM state variable indicating which values are completely\n",
    "# unknown. Setting it to False indicates that the node has a tentative value\n",
    "# assigned to it. In this case, the tentative value happens to be the true,\n",
    "# final value.\n",
    "solver.is_far[src_idx] = False\n",
    "# Push the index of the source node onto the narrow-band heap.\n",
    "solver.close.push(*src_idx)\n",
    "\n",
    "# Solve the system.\n",
    "solver.solve()"
   ]
  },
  {
   "cell_type": "code",
   "execution_count": 26,
   "metadata": {},
   "outputs": [],
   "source": [
    "%matplotlib ipympl\n",
    "import matplotlib.pyplot as plt\n",
    "plt.style.use(\"malcolmw\")"
   ]
  },
  {
   "cell_type": "code",
   "execution_count": 40,
   "metadata": {},
   "outputs": [
    {
     "data": {
      "application/vnd.jupyter.widget-view+json": {
       "model_id": "8795aec4379d4f5794203d25681c07fa",
       "version_major": 2,
       "version_minor": 0
      },
      "text/plain": [
       "Canvas(toolbar=Toolbar(toolitems=[('Home', 'Reset original view', 'home', 'home'), ('Back', 'Back to previous …"
      ]
     },
     "metadata": {},
     "output_type": "display_data"
    }
   ],
   "source": [
    "kwargs = dict(\n",
    "    cmap=plt.get_cmap(\"jet_r\"),\n",
    "    edgecolor=\"k\",\n",
    "    s=250,\n",
    "    linewidth=4,\n",
    "    vmin=0,\n",
    "    vmax=solver.tt.values.max()\n",
    ")\n",
    "plt.close(\"all\")\n",
    "fig = plt.figure(figsize=(6,4))\n",
    "ax = fig.add_subplot(1, 1, 1, aspect=1)\n",
    "pts = ax.scatter(\n",
    "    solver.tt.nodes[1:,1:,0,0], solver.tt.nodes[1:,1:,0,1],\n",
    "    c=solver.tt.values[1:,1:,0],\n",
    "    **kwargs\n",
    ")\n",
    "ax.scatter(\n",
    "    solver.tt.nodes[0,1:,0,0], solver.tt.nodes[0,1:,0,1],\n",
    "    c=solver.tt.values[0,1:,0],\n",
    "    **kwargs\n",
    ")\n",
    "ax.scatter(\n",
    "    solver.tt.nodes[1:,0,0,0], solver.tt.nodes[1:,0,0,1],\n",
    "    c=solver.tt.values[1:,0,0],\n",
    "    **kwargs\n",
    ")\n",
    "ax.scatter(\n",
    "    0, 0,\n",
    "    marker=\"x\",\n",
    "    c=\"k\",\n",
    "    **kwargs,\n",
    ")\n",
    "cbar = fig.colorbar(pts, ax=ax)\n",
    "cbar.set_label(\"Traveltime [s]\")\n",
    "ax.set_xlabel(\"x [km]\")\n",
    "ax.set_ylabel(\"y [km]\")\n",
    "plt.savefig(\"../source/figures/examples/cartesian_2d.png\", bbox_inches=\"tight\", dpi=720)"
   ]
  },
  {
   "cell_type": "code",
   "execution_count": null,
   "metadata": {},
   "outputs": [],
   "source": []
  }
 ],
 "metadata": {
  "kernelspec": {
   "display_name": "Python [conda env:py37]",
   "language": "python",
   "name": "conda-env-py37-py"
  },
  "language_info": {
   "codemirror_mode": {
    "name": "ipython",
    "version": 3
   },
   "file_extension": ".py",
   "mimetype": "text/x-python",
   "name": "python",
   "nbconvert_exporter": "python",
   "pygments_lexer": "ipython3",
   "version": "3.7.6"
  }
 },
 "nbformat": 4,
 "nbformat_minor": 4
}
